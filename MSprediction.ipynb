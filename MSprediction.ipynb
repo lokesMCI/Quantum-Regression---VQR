{
 "cells": [
  {
   "cell_type": "code",
   "execution_count": 1,
   "id": "bb8ead74-fd59-4275-b911-f1079f6717ed",
   "metadata": {},
   "outputs": [
    {
     "name": "stderr",
     "output_type": "stream",
     "text": [
      "<frozen importlib._bootstrap>:219: RuntimeWarning: scipy._lib.messagestream.MessageStream size changed, may indicate binary incompatibility. Expected 56 from C header, got 64 from PyObject\n"
     ]
    }
   ],
   "source": [
    "import numpy as np\n",
    "\n",
    "# Importing standard Qiskit libraries\n",
    "from qiskit import QuantumCircuit, transpile, Aer, IBMQ\n",
    "from qiskit.tools.jupyter import *\n",
    "from qiskit.visualization import *\n",
    "from ibm_quantum_widgets import *\n",
    "from qiskit.providers.aer import QasmSimulator\n",
    "\n",
    "# Loading your IBM Quantum account(s)\n",
    "provider = IBMQ.load_account()"
   ]
  },
  {
   "cell_type": "code",
   "execution_count": 2,
   "id": "338bed7f-9161-476c-86d2-f8a0a79f3bba",
   "metadata": {},
   "outputs": [],
   "source": [
    "import matplotlib.pyplot as plt\n",
    "import numpy as np\n",
    "from IPython.display import clear_output\n",
    "from qiskit import QuantumCircuit\n",
    "from qiskit.algorithms.optimizers import COBYLA, L_BFGS_B\n",
    "from qiskit.circuit import Parameter\n",
    "from qiskit.circuit.library import RealAmplitudes, ZZFeatureMap, ZFeatureMap\n",
    "from qiskit.utils import algorithm_globals\n",
    "from qiskit_machine_learning.algorithms.regressors import NeuralNetworkRegressor, VQR\n",
    "from qiskit_machine_learning.neural_networks import SamplerQNN, EstimatorQNN\n",
    "\n",
    "algorithm_globals.random_seed = 42"
   ]
  },
  {
   "cell_type": "markdown",
   "id": "80b3d8d1-8686-432c-95de-7e7d5156953d",
   "metadata": {},
   "source": [
    "## Loading data from keras library"
   ]
  },
  {
   "cell_type": "code",
   "execution_count": 3,
   "id": "15338519-ec8d-4845-b18f-2c99e3c40144",
   "metadata": {},
   "outputs": [
    {
     "name": "stdout",
     "output_type": "stream",
     "text": [
      "Collecting tensorflow\n",
      "  Using cached tensorflow-2.11.0-cp38-cp38-manylinux_2_17_x86_64.manylinux2014_x86_64.whl (588.3 MB)\n",
      "Collecting gast<=0.4.0,>=0.2.1\n",
      "  Using cached gast-0.4.0-py3-none-any.whl (9.8 kB)\n",
      "Collecting astunparse>=1.6.0\n",
      "  Using cached astunparse-1.6.3-py2.py3-none-any.whl (12 kB)\n",
      "Collecting termcolor>=1.1.0\n",
      "  Using cached termcolor-2.2.0-py3-none-any.whl (6.6 kB)\n",
      "Collecting libclang>=13.0.0\n",
      "  Using cached libclang-15.0.6.1-py2.py3-none-manylinux2010_x86_64.whl (21.5 MB)\n",
      "Collecting tensorboard<2.12,>=2.11\n",
      "  Using cached tensorboard-2.11.2-py3-none-any.whl (6.0 MB)\n",
      "Requirement already satisfied: packaging in /opt/conda/lib/python3.8/site-packages (from tensorflow) (21.3)\n",
      "Collecting absl-py>=1.0.0\n",
      "  Using cached absl_py-1.4.0-py3-none-any.whl (126 kB)\n",
      "Collecting wrapt>=1.11.0\n",
      "  Using cached wrapt-1.14.1-cp38-cp38-manylinux_2_5_x86_64.manylinux1_x86_64.manylinux_2_17_x86_64.manylinux2014_x86_64.whl (81 kB)\n",
      "Requirement already satisfied: setuptools in /opt/conda/lib/python3.8/site-packages (from tensorflow) (61.2.0)\n",
      "Collecting google-pasta>=0.1.1\n",
      "  Using cached google_pasta-0.2.0-py3-none-any.whl (57 kB)\n",
      "Collecting grpcio<2.0,>=1.24.3\n",
      "  Using cached grpcio-1.51.1-cp38-cp38-manylinux_2_17_x86_64.manylinux2014_x86_64.whl (4.8 MB)\n",
      "Requirement already satisfied: protobuf<3.20,>=3.9.2 in /opt/conda/lib/python3.8/site-packages (from tensorflow) (3.14.0)\n",
      "Collecting tensorflow-estimator<2.12,>=2.11.0\n",
      "  Using cached tensorflow_estimator-2.11.0-py2.py3-none-any.whl (439 kB)\n",
      "Collecting tensorflow-io-gcs-filesystem>=0.23.1\n",
      "  Using cached tensorflow_io_gcs_filesystem-0.30.0-cp38-cp38-manylinux_2_12_x86_64.manylinux2010_x86_64.whl (2.4 MB)\n",
      "Collecting opt-einsum>=2.3.2\n",
      "  Using cached opt_einsum-3.3.0-py3-none-any.whl (65 kB)\n",
      "Collecting keras<2.12,>=2.11.0\n",
      "  Using cached keras-2.11.0-py2.py3-none-any.whl (1.7 MB)\n",
      "Requirement already satisfied: six>=1.12.0 in /opt/conda/lib/python3.8/site-packages (from tensorflow) (1.16.0)\n",
      "Requirement already satisfied: typing-extensions>=3.6.6 in /opt/conda/lib/python3.8/site-packages (from tensorflow) (4.4.0)\n",
      "Requirement already satisfied: h5py>=2.9.0 in /opt/conda/lib/python3.8/site-packages (from tensorflow) (3.6.0)\n",
      "Requirement already satisfied: numpy>=1.20 in /opt/conda/lib/python3.8/site-packages (from tensorflow) (1.22.4)\n",
      "Collecting flatbuffers>=2.0\n",
      "  Using cached flatbuffers-23.1.21-py2.py3-none-any.whl (26 kB)\n",
      "Requirement already satisfied: wheel<1.0,>=0.23.0 in /opt/conda/lib/python3.8/site-packages (from astunparse>=1.6.0->tensorflow) (0.38.2)\n",
      "Collecting google-auth<3,>=1.6.3\n",
      "  Using cached google_auth-2.16.0-py2.py3-none-any.whl (177 kB)\n",
      "Collecting markdown>=2.6.8\n",
      "  Using cached Markdown-3.4.1-py3-none-any.whl (93 kB)\n",
      "Collecting google-auth-oauthlib<0.5,>=0.4.1\n",
      "  Using cached google_auth_oauthlib-0.4.6-py2.py3-none-any.whl (18 kB)\n",
      "Requirement already satisfied: requests<3,>=2.21.0 in /opt/conda/lib/python3.8/site-packages (from tensorboard<2.12,>=2.11->tensorflow) (2.27.1)\n",
      "Collecting tensorboard-data-server<0.7.0,>=0.6.0\n",
      "  Using cached tensorboard_data_server-0.6.1-py3-none-manylinux2010_x86_64.whl (4.9 MB)\n",
      "Collecting werkzeug>=1.0.1\n",
      "  Using cached Werkzeug-2.2.2-py3-none-any.whl (232 kB)\n",
      "Collecting tensorboard-plugin-wit>=1.6.0\n",
      "  Using cached tensorboard_plugin_wit-1.8.1-py3-none-any.whl (781 kB)\n",
      "Collecting rsa<5,>=3.1.4\n",
      "  Using cached rsa-4.9-py3-none-any.whl (34 kB)\n",
      "Collecting cachetools<6.0,>=2.0.0\n",
      "  Using cached cachetools-5.3.0-py3-none-any.whl (9.3 kB)\n",
      "Collecting pyasn1-modules>=0.2.1\n",
      "  Using cached pyasn1_modules-0.2.8-py2.py3-none-any.whl (155 kB)\n",
      "Collecting requests-oauthlib>=0.7.0\n",
      "  Using cached requests_oauthlib-1.3.1-py2.py3-none-any.whl (23 kB)\n",
      "Requirement already satisfied: importlib-metadata>=4.4 in /opt/conda/lib/python3.8/site-packages (from markdown>=2.6.8->tensorboard<2.12,>=2.11->tensorflow) (5.0.0)\n",
      "Requirement already satisfied: zipp>=0.5 in /opt/conda/lib/python3.8/site-packages (from importlib-metadata>=4.4->markdown>=2.6.8->tensorboard<2.12,>=2.11->tensorflow) (3.7.0)\n",
      "Collecting pyasn1<0.5.0,>=0.4.6\n",
      "  Using cached pyasn1-0.4.8-py2.py3-none-any.whl (77 kB)\n",
      "Requirement already satisfied: idna<4,>=2.5 in /opt/conda/lib/python3.8/site-packages (from requests<3,>=2.21.0->tensorboard<2.12,>=2.11->tensorflow) (3.3)\n",
      "Requirement already satisfied: urllib3<1.27,>=1.21.1 in /opt/conda/lib/python3.8/site-packages (from requests<3,>=2.21.0->tensorboard<2.12,>=2.11->tensorflow) (1.26.9)\n",
      "Requirement already satisfied: certifi>=2017.4.17 in /opt/conda/lib/python3.8/site-packages (from requests<3,>=2.21.0->tensorboard<2.12,>=2.11->tensorflow) (2021.10.8)\n",
      "Requirement already satisfied: charset-normalizer~=2.0.0 in /opt/conda/lib/python3.8/site-packages (from requests<3,>=2.21.0->tensorboard<2.12,>=2.11->tensorflow) (2.0.12)\n",
      "Requirement already satisfied: oauthlib>=3.0.0 in /opt/conda/lib/python3.8/site-packages (from requests-oauthlib>=0.7.0->google-auth-oauthlib<0.5,>=0.4.1->tensorboard<2.12,>=2.11->tensorflow) (3.2.2)\n",
      "Requirement already satisfied: MarkupSafe>=2.1.1 in /opt/conda/lib/python3.8/site-packages (from werkzeug>=1.0.1->tensorboard<2.12,>=2.11->tensorflow) (2.1.1)\n",
      "Requirement already satisfied: pyparsing!=3.0.5,>=2.0.2 in /opt/conda/lib/python3.8/site-packages (from packaging->tensorflow) (3.0.7)\n",
      "Installing collected packages: pyasn1, rsa, pyasn1-modules, cachetools, requests-oauthlib, google-auth, werkzeug, tensorboard-plugin-wit, tensorboard-data-server, markdown, grpcio, google-auth-oauthlib, absl-py, wrapt, termcolor, tensorflow-io-gcs-filesystem, tensorflow-estimator, tensorboard, opt-einsum, libclang, keras, google-pasta, gast, flatbuffers, astunparse, tensorflow\n",
      "Successfully installed absl-py-1.4.0 astunparse-1.6.3 cachetools-5.3.0 flatbuffers-23.1.21 gast-0.4.0 google-auth-2.16.0 google-auth-oauthlib-0.4.6 google-pasta-0.2.0 grpcio-1.51.1 keras-2.11.0 libclang-15.0.6.1 markdown-3.4.1 opt-einsum-3.3.0 pyasn1-0.4.8 pyasn1-modules-0.2.8 requests-oauthlib-1.3.1 rsa-4.9 tensorboard-2.11.2 tensorboard-data-server-0.6.1 tensorboard-plugin-wit-1.8.1 tensorflow-2.11.0 tensorflow-estimator-2.11.0 tensorflow-io-gcs-filesystem-0.30.0 termcolor-2.2.0 werkzeug-2.2.2 wrapt-1.14.1\n",
      "Note: you may need to restart the kernel to use updated packages.\n"
     ]
    }
   ],
   "source": [
    "pip install tensorflow"
   ]
  },
  {
   "cell_type": "code",
   "execution_count": 4,
   "id": "8e925b74-ec9a-49eb-a5ce-f1e63f954c96",
   "metadata": {},
   "outputs": [
    {
     "name": "stderr",
     "output_type": "stream",
     "text": [
      "2023-01-24 12:29:56.947540: I tensorflow/core/platform/cpu_feature_guard.cc:193] This TensorFlow binary is optimized with oneAPI Deep Neural Network Library (oneDNN) to use the following CPU instructions in performance-critical operations:  AVX2 FMA\n",
      "To enable them in other operations, rebuild TensorFlow with the appropriate compiler flags.\n",
      "2023-01-24 12:29:57.298917: W tensorflow/compiler/xla/stream_executor/platform/default/dso_loader.cc:64] Could not load dynamic library 'libcudart.so.11.0'; dlerror: libcudart.so.11.0: cannot open shared object file: No such file or directory\n",
      "2023-01-24 12:29:57.299017: I tensorflow/compiler/xla/stream_executor/cuda/cudart_stub.cc:29] Ignore above cudart dlerror if you do not have a GPU set up on your machine.\n",
      "2023-01-24 12:29:59.000915: W tensorflow/compiler/xla/stream_executor/platform/default/dso_loader.cc:64] Could not load dynamic library 'libnvinfer.so.7'; dlerror: libnvinfer.so.7: cannot open shared object file: No such file or directory\n",
      "2023-01-24 12:29:59.000915: W tensorflow/compiler/xla/stream_executor/platform/default/dso_loader.cc:64] Could not load dynamic library 'libnvinfer_plugin.so.7'; dlerror: libnvinfer_plugin.so.7: cannot open shared object file: No such file or directory\n",
      "2023-01-24 12:29:59.000915: W tensorflow/compiler/tf2tensorrt/utils/py_utils.cc:38] TF-TRT Warning: Cannot dlopen some TensorRT libraries. If you would like to use Nvidia GPU with TensorRT, please make sure the missing libraries mentioned above are installed properly.\n"
     ]
    }
   ],
   "source": [
    "from keras.datasets import boston_housing"
   ]
  },
  {
   "cell_type": "code",
   "execution_count": 5,
   "id": "cd881c16-d685-4e5c-8b5b-5e6b897f8383",
   "metadata": {},
   "outputs": [],
   "source": [
    "import pandas as pd"
   ]
  },
  {
   "cell_type": "code",
   "execution_count": 6,
   "id": "0f96dc55-2ce3-4529-8aec-45ca5b248cfc",
   "metadata": {},
   "outputs": [],
   "source": [
    "data = pd.read_csv(\"Admission_Predict.csv\")"
   ]
  },
  {
   "cell_type": "code",
   "execution_count": 7,
   "id": "745f8795-c1d4-4449-ae72-2b0d2ad2dd43",
   "metadata": {},
   "outputs": [
    {
     "data": {
      "text/html": [
       "<div>\n",
       "<style scoped>\n",
       "    .dataframe tbody tr th:only-of-type {\n",
       "        vertical-align: middle;\n",
       "    }\n",
       "\n",
       "    .dataframe tbody tr th {\n",
       "        vertical-align: top;\n",
       "    }\n",
       "\n",
       "    .dataframe thead th {\n",
       "        text-align: right;\n",
       "    }\n",
       "</style>\n",
       "<table border=\"1\" class=\"dataframe\">\n",
       "  <thead>\n",
       "    <tr style=\"text-align: right;\">\n",
       "      <th></th>\n",
       "      <th>Serial No.</th>\n",
       "      <th>GRE Score</th>\n",
       "      <th>TOEFL Score</th>\n",
       "      <th>University Rating</th>\n",
       "      <th>SOP</th>\n",
       "      <th>LOR</th>\n",
       "      <th>CGPA</th>\n",
       "      <th>Research</th>\n",
       "      <th>Chance of Admit</th>\n",
       "    </tr>\n",
       "  </thead>\n",
       "  <tbody>\n",
       "    <tr>\n",
       "      <th>0</th>\n",
       "      <td>1</td>\n",
       "      <td>337</td>\n",
       "      <td>118</td>\n",
       "      <td>4</td>\n",
       "      <td>4.5</td>\n",
       "      <td>4.5</td>\n",
       "      <td>9.65</td>\n",
       "      <td>1</td>\n",
       "      <td>0.92</td>\n",
       "    </tr>\n",
       "    <tr>\n",
       "      <th>1</th>\n",
       "      <td>2</td>\n",
       "      <td>324</td>\n",
       "      <td>107</td>\n",
       "      <td>4</td>\n",
       "      <td>4.0</td>\n",
       "      <td>4.5</td>\n",
       "      <td>8.87</td>\n",
       "      <td>1</td>\n",
       "      <td>0.76</td>\n",
       "    </tr>\n",
       "    <tr>\n",
       "      <th>2</th>\n",
       "      <td>3</td>\n",
       "      <td>316</td>\n",
       "      <td>104</td>\n",
       "      <td>3</td>\n",
       "      <td>3.0</td>\n",
       "      <td>3.5</td>\n",
       "      <td>8.00</td>\n",
       "      <td>1</td>\n",
       "      <td>0.72</td>\n",
       "    </tr>\n",
       "    <tr>\n",
       "      <th>3</th>\n",
       "      <td>4</td>\n",
       "      <td>322</td>\n",
       "      <td>110</td>\n",
       "      <td>3</td>\n",
       "      <td>3.5</td>\n",
       "      <td>2.5</td>\n",
       "      <td>8.67</td>\n",
       "      <td>1</td>\n",
       "      <td>0.80</td>\n",
       "    </tr>\n",
       "    <tr>\n",
       "      <th>4</th>\n",
       "      <td>5</td>\n",
       "      <td>314</td>\n",
       "      <td>103</td>\n",
       "      <td>2</td>\n",
       "      <td>2.0</td>\n",
       "      <td>3.0</td>\n",
       "      <td>8.21</td>\n",
       "      <td>0</td>\n",
       "      <td>0.65</td>\n",
       "    </tr>\n",
       "  </tbody>\n",
       "</table>\n",
       "</div>"
      ],
      "text/plain": [
       "   Serial No.  GRE Score  TOEFL Score  University Rating  SOP  LOR   CGPA  \\\n",
       "0           1        337          118                  4  4.5   4.5  9.65   \n",
       "1           2        324          107                  4  4.0   4.5  8.87   \n",
       "2           3        316          104                  3  3.0   3.5  8.00   \n",
       "3           4        322          110                  3  3.5   2.5  8.67   \n",
       "4           5        314          103                  2  2.0   3.0  8.21   \n",
       "\n",
       "   Research  Chance of Admit   \n",
       "0         1              0.92  \n",
       "1         1              0.76  \n",
       "2         1              0.72  \n",
       "3         1              0.80  \n",
       "4         0              0.65  "
      ]
     },
     "execution_count": 7,
     "metadata": {},
     "output_type": "execute_result"
    }
   ],
   "source": [
    "data.head()"
   ]
  },
  {
   "cell_type": "code",
   "execution_count": 8,
   "id": "11ed4bb8-2ff2-4091-9496-094f9e6dfead",
   "metadata": {},
   "outputs": [
    {
     "data": {
      "text/plain": [
       "(400, 9)"
      ]
     },
     "execution_count": 8,
     "metadata": {},
     "output_type": "execute_result"
    }
   ],
   "source": [
    "data.shape"
   ]
  },
  {
   "cell_type": "code",
   "execution_count": 9,
   "id": "bf624bb9-07f6-4372-afa7-826c36478865",
   "metadata": {},
   "outputs": [
    {
     "name": "stdout",
     "output_type": "stream",
     "text": [
      "     GRE Score  TOEFL Score  University Rating  SOP  LOR   CGPA  Research\n",
      "0          337          118                  4  4.5   4.5  9.65         1\n",
      "1          324          107                  4  4.0   4.5  8.87         1\n",
      "2          316          104                  3  3.0   3.5  8.00         1\n",
      "3          322          110                  3  3.5   2.5  8.67         1\n",
      "4          314          103                  2  2.0   3.0  8.21         0\n",
      "..         ...          ...                ...  ...   ...   ...       ...\n",
      "395        324          110                  3  3.5   3.5  9.04         1\n",
      "396        325          107                  3  3.0   3.5  9.11         1\n",
      "397        330          116                  4  5.0   4.5  9.45         1\n",
      "398        312          103                  3  3.5   4.0  8.78         0\n",
      "399        333          117                  4  5.0   4.0  9.66         1\n",
      "\n",
      "[400 rows x 7 columns]\n",
      "0      0.92\n",
      "1      0.76\n",
      "2      0.72\n",
      "3      0.80\n",
      "4      0.65\n",
      "       ... \n",
      "395    0.82\n",
      "396    0.84\n",
      "397    0.91\n",
      "398    0.67\n",
      "399    0.95\n",
      "Name: Chance of Admit , Length: 400, dtype: float64\n"
     ]
    }
   ],
   "source": [
    "x = data[data.columns[1:-1]]\n",
    "print(x)\n",
    "y = data[data.columns[-1]]\n",
    "print(y)"
   ]
  },
  {
   "cell_type": "code",
   "execution_count": 10,
   "id": "e7ef15a1-0254-489b-a7b0-261016d150dc",
   "metadata": {},
   "outputs": [
    {
     "data": {
      "text/plain": [
       "((300, 7), (100, 7), (300,), (100,))"
      ]
     },
     "execution_count": 10,
     "metadata": {},
     "output_type": "execute_result"
    }
   ],
   "source": [
    "from sklearn.model_selection import train_test_split\n",
    "xb,xb_v,yb,yb_v = train_test_split(x,y,shuffle=True)\n",
    "xb.shape,xb_v.shape,yb.shape,yb_v.shape"
   ]
  },
  {
   "cell_type": "code",
   "execution_count": 11,
   "id": "6497ab82-5efc-40c5-ab0e-8e6dbc0a6505",
   "metadata": {},
   "outputs": [],
   "source": [
    "(xb,yb),(xb_v,yb_v) = boston_housing.load_data(\n",
    "    path=\"boston_housing.npz\", test_split=0.2, seed=113\n",
    ")"
   ]
  },
  {
   "cell_type": "code",
   "execution_count": 12,
   "id": "7d7c6e47-13c4-412b-9582-0a32d58dd270",
   "metadata": {},
   "outputs": [
    {
     "data": {
      "text/plain": [
       "array([[1.23247e+00, 0.00000e+00, 8.14000e+00, ..., 2.10000e+01,\n",
       "        3.96900e+02, 1.87200e+01],\n",
       "       [2.17700e-02, 8.25000e+01, 2.03000e+00, ..., 1.47000e+01,\n",
       "        3.95380e+02, 3.11000e+00],\n",
       "       [4.89822e+00, 0.00000e+00, 1.81000e+01, ..., 2.02000e+01,\n",
       "        3.75520e+02, 3.26000e+00],\n",
       "       ...,\n",
       "       [3.46600e-02, 3.50000e+01, 6.06000e+00, ..., 1.69000e+01,\n",
       "        3.62250e+02, 7.83000e+00],\n",
       "       [2.14918e+00, 0.00000e+00, 1.95800e+01, ..., 1.47000e+01,\n",
       "        2.61950e+02, 1.57900e+01],\n",
       "       [1.43900e-02, 6.00000e+01, 2.93000e+00, ..., 1.56000e+01,\n",
       "        3.76700e+02, 4.38000e+00]])"
      ]
     },
     "execution_count": 12,
     "metadata": {},
     "output_type": "execute_result"
    }
   ],
   "source": [
    "xb"
   ]
  },
  {
   "cell_type": "code",
   "execution_count": 13,
   "id": "59490556-1a2b-4a7e-9489-9dc0f7bba22e",
   "metadata": {},
   "outputs": [],
   "source": [
    "import numpy as np\n",
    "import pandas as pd"
   ]
  },
  {
   "cell_type": "code",
   "execution_count": 14,
   "id": "817f88e5-1f47-49a2-bb41-de60400d1542",
   "metadata": {},
   "outputs": [],
   "source": [
    "df_xb = pd.DataFrame(xb)\n",
    "df_xb_v = pd.DataFrame(xb_v)\n",
    "\n",
    "\n"
   ]
  },
  {
   "cell_type": "code",
   "execution_count": 15,
   "id": "f498cf66-62fa-47aa-97f0-6ad709a49d39",
   "metadata": {},
   "outputs": [
    {
     "data": {
      "text/plain": [
       "0     0\n",
       "1     0\n",
       "2     0\n",
       "3     0\n",
       "4     0\n",
       "5     0\n",
       "6     0\n",
       "7     0\n",
       "8     0\n",
       "9     0\n",
       "10    0\n",
       "11    0\n",
       "12    0\n",
       "dtype: int64"
      ]
     },
     "execution_count": 15,
     "metadata": {},
     "output_type": "execute_result"
    }
   ],
   "source": [
    "df_xb.isna().sum()"
   ]
  },
  {
   "cell_type": "code",
   "execution_count": 17,
   "id": "44e78c16-2fd1-40ed-8e74-cca55bbc42e6",
   "metadata": {},
   "outputs": [
    {
     "data": {
      "text/plain": [
       "(array([-0.54666667,  0.65777778,  1.        , -0.28444444, -0.43555556,\n",
       "        -0.4       , -0.72      , -0.52888889, -0.52888889, -0.58222222,\n",
       "        -0.68444444, -0.42666667, -0.19555556, -0.33777778, -0.52444444,\n",
       "        -0.83111111,  1.        , -0.22222222, -0.15111111,  0.        ,\n",
       "        -0.73777778,  0.14666667,  0.24      , -0.15555556, -0.4       ,\n",
       "        -0.63111111, -0.20444444,  0.32      , -0.48444444, -0.44444444,\n",
       "        -0.23111111, -0.50666667, -0.56      , -0.19555556,  0.32888889,\n",
       "        -0.11111111, -0.60444444, -0.64      , -0.31555556, -0.33333333,\n",
       "        -0.54666667, -0.12444444, -0.23555556, -0.48      , -0.65777778,\n",
       "        -0.52888889, -0.40444444, -0.28888889,  0.11555556, -0.55111111,\n",
       "        -0.39111111, -0.79555556,  0.17777778, -0.12      , -0.37333333,\n",
       "        -0.24444444, -0.57777778, -0.73333333,  0.2       ,  0.08444444,\n",
       "        -0.32      , -0.13777778, -0.57333333, -0.35555556, -0.59555556,\n",
       "        -0.58666667, -0.52888889, -0.75555556, -0.94222222, -0.36444444,\n",
       "        -0.36444444, -0.62666667,  0.39555556, -0.43111111, -0.62222222,\n",
       "        -0.48888889, -0.85333333, -0.58666667, -0.51111111, -0.62666667,\n",
       "         0.04888889,  0.71111111, -0.32444444, -0.24444444, -0.2       ,\n",
       "        -0.30222222, -0.66666667,  0.93333333, -0.57333333, -0.62666667,\n",
       "        -0.16888889,  1.        , -0.25777778,  0.54666667,  0.49777778,\n",
       "        -0.23555556,  0.32888889, -0.22222222,  0.16      ,  0.05333333,\n",
       "         0.82222222,  0.63111111, -0.28888889, -0.04      , -0.55555556,\n",
       "        -0.13777778, -0.63111111, -0.28      , -0.70222222, -0.25777778,\n",
       "        -0.36      ,  1.        , -0.20888889, -0.34666667, -0.12444444,\n",
       "         0.38666667, -0.59111111, -0.38222222, -0.40888889, -0.30666667,\n",
       "        -0.12888889, -0.41333333, -0.83555556,  0.73333333, -0.76      ,\n",
       "        -0.63555556, -0.28      ,  0.42222222,  0.14222222, -0.20444444,\n",
       "        -0.33333333, -0.36444444,  0.18666667,  0.2       , -0.19555556,\n",
       "        -0.38666667, -0.73777778,  1.        , -0.35111111, -1.        ,\n",
       "        -0.58222222, -0.34222222, -0.60888889, -0.35111111, -0.16      ,\n",
       "        -0.13333333, -0.11111111, -0.33777778, -0.45777778, -0.12888889,\n",
       "        -0.62222222, -0.04      , -0.27111111, -0.69333333, -0.21777778,\n",
       "        -0.35111111, -0.84444444, -0.16888889, -0.19555556, -0.22666667,\n",
       "        -0.31111111, -0.17333333, -0.40444444,  0.34222222, -0.19555556,\n",
       "         0.01777778, -0.30666667, -0.16888889,  0.02222222, -0.61777778,\n",
       "        -0.01777778, -0.17333333, -0.30666667, -0.41333333, -0.25777778,\n",
       "        -0.46222222, -0.84888889, -0.09777778, -0.60888889, -0.23555556,\n",
       "        -0.40444444, -0.30222222,  0.18222222,  0.13333333, -0.32      ,\n",
       "        -0.83111111, -0.36888889, -0.36      , -0.19555556, -0.2       ,\n",
       "        -0.56444444,  0.94666667, -0.21777778,  0.26222222, -0.28444444,\n",
       "        -0.61777778,  0.20888889, -0.64      , -0.18222222, -0.38222222,\n",
       "        -0.16      , -0.69777778, -0.18666667, -0.20888889, -0.35111111,\n",
       "        -0.48      , -0.62666667, -0.23555556, -0.31555556, -0.25333333,\n",
       "        -0.04888889, -0.56      , -0.15111111, -0.16444444, -0.67555556,\n",
       "         0.07111111, -0.28888889, -0.35555556, -0.18666667, -0.16444444,\n",
       "        -0.43111111, -0.71111111, -0.25777778, -0.33777778, -0.11111111,\n",
       "         0.26222222,  0.04444444, -0.27111111, -0.14222222,  0.        ,\n",
       "         0.24888889, -0.50222222, -0.18666667,  0.92444444, -0.20444444,\n",
       "        -0.20888889, -0.64      , -0.65777778, -0.21777778, -0.55555556,\n",
       "        -0.54222222, -0.75555556, -0.15555556, -0.4       , -0.25777778,\n",
       "        -0.35555556,  0.25333333, -0.19111111, -1.        , -0.37333333,\n",
       "        -0.65777778, -0.23111111, -0.76888889, -0.60444444, -0.49777778,\n",
       "        -0.46666667, -0.32888889,  0.10666667, -0.45777778,  0.43555556,\n",
       "         0.79555556, -0.43111111, -0.19111111,  0.06666667, -0.24444444,\n",
       "        -0.42222222, -0.44888889,  0.31555556, -0.32888889, -0.11111111,\n",
       "        -0.52888889, -0.12      ,  0.03111111, -0.28      , -0.27111111,\n",
       "        -0.16444444,  0.15555556, -0.05777778, -0.44888889,  0.46222222,\n",
       "        -0.44444444, -0.33333333, -0.85333333, -0.16      , -0.84888889,\n",
       "        -0.60888889, -0.90222222, -0.70222222, -0.46222222, -0.26222222,\n",
       "         1.        , -0.50666667, -0.31555556, -0.30666667, -0.27111111,\n",
       "        -0.30666667,  0.4       , -0.84444444, -0.12      , -0.74222222,\n",
       "        -0.24888889, -0.45333333, -0.38222222,  0.38666667, -0.56      ,\n",
       "        -0.41333333,  0.25777778, -0.25333333, -0.34666667,  0.18222222,\n",
       "        -0.12      , -0.36      , -0.20888889, -0.88888889,  0.76888889,\n",
       "        -0.47555556, -0.39111111,  1.        ,  1.        , -0.35555556,\n",
       "        -0.32888889,  1.        , -0.45777778, -0.29777778, -0.36444444,\n",
       "         0.61333333, -0.31555556, -0.31111111, -0.60888889, -0.48888889,\n",
       "        -0.16      , -0.30666667,  0.17777778, -0.18666667, -0.47555556,\n",
       "        -0.6       ,  0.28      ,  0.38222222, -0.65333333, -0.40888889,\n",
       "        -0.39111111, -0.37333333,  0.06666667,  0.11555556,  1.        ,\n",
       "         1.        , -0.24444444, -0.69333333,  0.44888889,  1.        ,\n",
       "        -0.21333333, -0.29777778, -0.17777778,  0.01777778,  1.        ,\n",
       "        -0.36444444, -0.16      , -0.21777778, -0.54666667, -0.25777778,\n",
       "        -0.36888889,  0.72444444, -0.32      ,  0.25333333, -0.33777778,\n",
       "        -0.22222222,  0.23111111, -0.24444444, -0.46222222, -0.37777778,\n",
       "        -0.55555556, -0.50666667, -0.10666667, -0.16888889,  0.05333333,\n",
       "         0.43111111, -0.21777778, -0.49333333, -0.11111111,  0.10222222,\n",
       "        -0.24      , -0.44888889, -0.41777778,  0.12444444, -0.44444444,\n",
       "        -0.12444444, -0.66222222, -0.04444444,  0.05333333, -0.63111111,\n",
       "        -0.76      , -0.13777778, -0.2       , -0.33333333, -0.43111111,\n",
       "        -0.91111111, -0.69777778, -0.13777778, -0.60888889, -0.36      ,\n",
       "        -0.10222222, -0.36      , -0.36      ,  0.07111111]),\n",
       " array([-0.92792793, -0.40540541, -0.3963964 , -0.03603604, -0.25225225,\n",
       "        -0.14864865,  0.15315315, -0.22072072, -0.32882883, -0.20720721,\n",
       "        -0.41441441, -0.5990991 , -0.45045045,  1.        , -0.31531532,\n",
       "        -0.15765766, -0.16216216, -0.36036036, -0.39189189, -0.22972973,\n",
       "        -0.71171171, -0.79279279, -0.35135135, -0.41891892, -0.31081081,\n",
       "        -0.21621622, -0.01351351,  0.1036036 , -0.82432432, -0.26126126,\n",
       "        -0.2972973 , -0.61711712,  0.23873874, -0.1981982 , -0.34684685,\n",
       "        -0.91891892, -0.55855856, -0.18018018, -0.34684685, -0.14864865,\n",
       "         0.23423423,  0.02702703, -0.61711712,  0.85135135,  0.21171171,\n",
       "         0.08108108,  0.02702703, -0.36036036, -0.34234234, -0.12612613,\n",
       "         0.34234234, -0.33783784, -0.81531532, -0.5990991 ,  0.31981982,\n",
       "        -0.05405405, -0.92792793,  1.        ,  0.20720721, -0.27927928,\n",
       "         0.09009009, -0.66216216, -0.01351351, -0.2972973 , -0.21171171,\n",
       "        -0.26576577, -0.66666667, -0.20720721, -0.88738739, -1.        ,\n",
       "        -0.27477477,  0.08108108, -0.36936937, -0.93693694, -0.06306306,\n",
       "        -0.4009009 , -0.31081081,  0.01351351,  0.34234234, -0.79279279,\n",
       "        -0.15765766,  0.68918919, -0.45945946, -0.55855856, -0.52252252,\n",
       "        -0.03153153, -0.28828829, -0.28378378, -0.24324324, -0.12612613,\n",
       "        -0.5045045 , -0.41441441, -0.26126126,  0.67567568,  0.32882883,\n",
       "        -0.28378378,  0.36936937, -0.26576577, -0.16666667,  1.        ,\n",
       "        -0.04954955, -0.12612613]))"
      ]
     },
     "execution_count": 17,
     "metadata": {},
     "output_type": "execute_result"
    }
   ],
   "source": [
    "from sklearn.preprocessing import StandardScaler\n",
    "from sklearn.preprocessing import MinMaxScaler\n",
    "\n",
    "\n",
    "scaler = MinMaxScaler(feature_range=(-1, 1))\n",
    "#normalised_data = scaler.fit_transform(df)\n",
    "\n",
    "#scaler = StandardScaler()\n",
    "xb = scaler.fit_transform(xb)\n",
    "xb_v = scaler.fit_transform(xb_v)\n",
    "yb =  ((yb - np.min(yb)) / (np.max(yb) - np.min(yb)))*2-1\n",
    "yb_v =  ((yb_v - np.min(yb_v)) / (np.max(yb_v) - np.min(yb_v)))*2-1\n",
    "yb,yb_v"
   ]
  },
  {
   "cell_type": "code",
   "execution_count": 18,
   "id": "86220033-3a99-4038-881e-0a1b21a8adb3",
   "metadata": {},
   "outputs": [
    {
     "data": {
      "text/plain": [
       "array([-0.54666667,  0.65777778,  1.        , -0.28444444, -0.43555556,\n",
       "       -0.4       , -0.72      , -0.52888889, -0.52888889, -0.58222222,\n",
       "       -0.68444444, -0.42666667, -0.19555556, -0.33777778, -0.52444444,\n",
       "       -0.83111111,  1.        , -0.22222222, -0.15111111,  0.        ,\n",
       "       -0.73777778,  0.14666667,  0.24      , -0.15555556, -0.4       ,\n",
       "       -0.63111111, -0.20444444,  0.32      , -0.48444444, -0.44444444,\n",
       "       -0.23111111, -0.50666667, -0.56      , -0.19555556,  0.32888889,\n",
       "       -0.11111111, -0.60444444, -0.64      , -0.31555556, -0.33333333,\n",
       "       -0.54666667, -0.12444444, -0.23555556, -0.48      , -0.65777778,\n",
       "       -0.52888889, -0.40444444, -0.28888889,  0.11555556, -0.55111111,\n",
       "       -0.39111111, -0.79555556,  0.17777778, -0.12      , -0.37333333,\n",
       "       -0.24444444, -0.57777778, -0.73333333,  0.2       ,  0.08444444,\n",
       "       -0.32      , -0.13777778, -0.57333333, -0.35555556, -0.59555556,\n",
       "       -0.58666667, -0.52888889, -0.75555556, -0.94222222, -0.36444444,\n",
       "       -0.36444444, -0.62666667,  0.39555556, -0.43111111, -0.62222222,\n",
       "       -0.48888889, -0.85333333, -0.58666667, -0.51111111, -0.62666667,\n",
       "        0.04888889,  0.71111111, -0.32444444, -0.24444444, -0.2       ,\n",
       "       -0.30222222, -0.66666667,  0.93333333, -0.57333333, -0.62666667,\n",
       "       -0.16888889,  1.        , -0.25777778,  0.54666667,  0.49777778,\n",
       "       -0.23555556,  0.32888889, -0.22222222,  0.16      ,  0.05333333,\n",
       "        0.82222222,  0.63111111, -0.28888889, -0.04      , -0.55555556,\n",
       "       -0.13777778, -0.63111111, -0.28      , -0.70222222, -0.25777778,\n",
       "       -0.36      ,  1.        , -0.20888889, -0.34666667, -0.12444444,\n",
       "        0.38666667, -0.59111111, -0.38222222, -0.40888889, -0.30666667,\n",
       "       -0.12888889, -0.41333333, -0.83555556,  0.73333333, -0.76      ,\n",
       "       -0.63555556, -0.28      ,  0.42222222,  0.14222222, -0.20444444,\n",
       "       -0.33333333, -0.36444444,  0.18666667,  0.2       , -0.19555556,\n",
       "       -0.38666667, -0.73777778,  1.        , -0.35111111, -1.        ,\n",
       "       -0.58222222, -0.34222222, -0.60888889, -0.35111111, -0.16      ,\n",
       "       -0.13333333, -0.11111111, -0.33777778, -0.45777778, -0.12888889,\n",
       "       -0.62222222, -0.04      , -0.27111111, -0.69333333, -0.21777778,\n",
       "       -0.35111111, -0.84444444, -0.16888889, -0.19555556, -0.22666667,\n",
       "       -0.31111111, -0.17333333, -0.40444444,  0.34222222, -0.19555556,\n",
       "        0.01777778, -0.30666667, -0.16888889,  0.02222222, -0.61777778,\n",
       "       -0.01777778, -0.17333333, -0.30666667, -0.41333333, -0.25777778,\n",
       "       -0.46222222, -0.84888889, -0.09777778, -0.60888889, -0.23555556,\n",
       "       -0.40444444, -0.30222222,  0.18222222,  0.13333333, -0.32      ,\n",
       "       -0.83111111, -0.36888889, -0.36      , -0.19555556, -0.2       ,\n",
       "       -0.56444444,  0.94666667, -0.21777778,  0.26222222, -0.28444444,\n",
       "       -0.61777778,  0.20888889, -0.64      , -0.18222222, -0.38222222,\n",
       "       -0.16      , -0.69777778, -0.18666667, -0.20888889, -0.35111111,\n",
       "       -0.48      , -0.62666667, -0.23555556, -0.31555556, -0.25333333,\n",
       "       -0.04888889, -0.56      , -0.15111111, -0.16444444, -0.67555556,\n",
       "        0.07111111, -0.28888889, -0.35555556, -0.18666667, -0.16444444,\n",
       "       -0.43111111, -0.71111111, -0.25777778, -0.33777778, -0.11111111,\n",
       "        0.26222222,  0.04444444, -0.27111111, -0.14222222,  0.        ,\n",
       "        0.24888889, -0.50222222, -0.18666667,  0.92444444, -0.20444444,\n",
       "       -0.20888889, -0.64      , -0.65777778, -0.21777778, -0.55555556,\n",
       "       -0.54222222, -0.75555556, -0.15555556, -0.4       , -0.25777778,\n",
       "       -0.35555556,  0.25333333, -0.19111111, -1.        , -0.37333333,\n",
       "       -0.65777778, -0.23111111, -0.76888889, -0.60444444, -0.49777778,\n",
       "       -0.46666667, -0.32888889,  0.10666667, -0.45777778,  0.43555556,\n",
       "        0.79555556, -0.43111111, -0.19111111,  0.06666667, -0.24444444,\n",
       "       -0.42222222, -0.44888889,  0.31555556, -0.32888889, -0.11111111,\n",
       "       -0.52888889, -0.12      ,  0.03111111, -0.28      , -0.27111111,\n",
       "       -0.16444444,  0.15555556, -0.05777778, -0.44888889,  0.46222222,\n",
       "       -0.44444444, -0.33333333, -0.85333333, -0.16      , -0.84888889,\n",
       "       -0.60888889, -0.90222222, -0.70222222, -0.46222222, -0.26222222,\n",
       "        1.        , -0.50666667, -0.31555556, -0.30666667, -0.27111111,\n",
       "       -0.30666667,  0.4       , -0.84444444, -0.12      , -0.74222222,\n",
       "       -0.24888889, -0.45333333, -0.38222222,  0.38666667, -0.56      ,\n",
       "       -0.41333333,  0.25777778, -0.25333333, -0.34666667,  0.18222222,\n",
       "       -0.12      , -0.36      , -0.20888889, -0.88888889,  0.76888889,\n",
       "       -0.47555556, -0.39111111,  1.        ,  1.        , -0.35555556,\n",
       "       -0.32888889,  1.        , -0.45777778, -0.29777778, -0.36444444,\n",
       "        0.61333333, -0.31555556, -0.31111111, -0.60888889, -0.48888889,\n",
       "       -0.16      , -0.30666667,  0.17777778, -0.18666667, -0.47555556,\n",
       "       -0.6       ,  0.28      ,  0.38222222, -0.65333333, -0.40888889,\n",
       "       -0.39111111, -0.37333333,  0.06666667,  0.11555556,  1.        ,\n",
       "        1.        , -0.24444444, -0.69333333,  0.44888889,  1.        ,\n",
       "       -0.21333333, -0.29777778, -0.17777778,  0.01777778,  1.        ,\n",
       "       -0.36444444, -0.16      , -0.21777778, -0.54666667, -0.25777778,\n",
       "       -0.36888889,  0.72444444, -0.32      ,  0.25333333, -0.33777778,\n",
       "       -0.22222222,  0.23111111, -0.24444444, -0.46222222, -0.37777778,\n",
       "       -0.55555556, -0.50666667, -0.10666667, -0.16888889,  0.05333333,\n",
       "        0.43111111, -0.21777778, -0.49333333, -0.11111111,  0.10222222,\n",
       "       -0.24      , -0.44888889, -0.41777778,  0.12444444, -0.44444444,\n",
       "       -0.12444444, -0.66222222, -0.04444444,  0.05333333, -0.63111111,\n",
       "       -0.76      , -0.13777778, -0.2       , -0.33333333, -0.43111111,\n",
       "       -0.91111111, -0.69777778, -0.13777778, -0.60888889, -0.36      ,\n",
       "       -0.10222222, -0.36      , -0.36      ,  0.07111111])"
      ]
     },
     "execution_count": 18,
     "metadata": {},
     "output_type": "execute_result"
    }
   ],
   "source": [
    "yb"
   ]
  },
  {
   "cell_type": "markdown",
   "id": "9f69b516-f9f4-4821-9fb0-9c15471968a7",
   "metadata": {},
   "source": [
    "## PCA "
   ]
  },
  {
   "cell_type": "code",
   "execution_count": 19,
   "id": "54ab8064-8333-4d56-b740-a20a3280c93d",
   "metadata": {},
   "outputs": [],
   "source": [
    "import numpy as np\n",
    "import pandas as pd\n",
    "\n",
    "# Visualization\n",
    "import matplotlib.pyplot as plt\n",
    "\n",
    "# Data processing, modeling, and model evaluation\n",
    "from sklearn.preprocessing import StandardScaler\n",
    "from sklearn.decomposition import PCA\n",
    "from sklearn.model_selection import train_test_split\n",
    "from sklearn.metrics import f1_score, classification_report, plot_confusion_matrix\n",
    "\n",
    "# Randomization\n",
    "import random"
   ]
  },
  {
   "cell_type": "code",
   "execution_count": 20,
   "id": "c1dc3825-abf9-4444-beee-cc0b460512a8",
   "metadata": {},
   "outputs": [],
   "source": [
    "pca = PCA(n_components=4)\n",
    "pca.fit(xb)\n",
    "xb_pca = pca.transform(xb)\n",
    "\n",
    "pca.fit(xb_v)\n",
    "pca.fit(xb_v)\n",
    "xb_v_pca = pca.transform(xb_v)"
   ]
  },
  {
   "cell_type": "code",
   "execution_count": 21,
   "id": "45495beb-ceb6-445b-936c-808f54dfe8e6",
   "metadata": {},
   "outputs": [
    {
     "data": {
      "image/png": "[encoded data removed]",
      "text/plain": [
       "<Figure size 576x432 with 1 Axes>"
      ]
     },
     "metadata": {
      "needs_background": "light"
     },
     "output_type": "display_data"
    }
   ],
   "source": [
    "# Calculate cumulative explained variance across all PCs\n",
    "\n",
    "cum_exp_var = []\n",
    "var_exp = 0\n",
    "for i in pca.explained_variance_ratio_:\n",
    "    var_exp += i\n",
    "    cum_exp_var.append(var_exp)\n",
    "\n",
    "# Plot cumulative explained variance for all PCs\n",
    "\n",
    "fig, ax = plt.subplots(figsize=(8,6))\n",
    "ax.bar(range(1,5), cum_exp_var)\n",
    "ax.set_xlabel('# Principal Components')\n",
    "ax.set_ylabel('% Cumulative Variance Explained');"
   ]
  },
  {
   "cell_type": "code",
   "execution_count": 22,
   "id": "29f0e810-08cf-4e82-ba0e-f13fb59339c6",
   "metadata": {},
   "outputs": [
    {
     "data": {
      "text/plain": [
       "((404, 4), (404,), (102, 4), (102,))"
      ]
     },
     "execution_count": 22,
     "metadata": {},
     "output_type": "execute_result"
    }
   ],
   "source": [
    "xb_pca.shape,yb.shape,xb_v_pca.shape,yb_v.shape"
   ]
  },
  {
   "cell_type": "code",
   "execution_count": 23,
   "id": "cb02e761-f5f1-4bb8-8248-f7ee696519c2",
   "metadata": {},
   "outputs": [
    {
     "name": "stdout",
     "output_type": "stream",
     "text": [
      "Traceback \u001b[1;36m(most recent call last)\u001b[0m:\n",
      "\u001b[1;36m  Input \u001b[1;32mIn [23]\u001b[1;36m in \u001b[1;35m<cell line: 1>\u001b[1;36m\u001b[0m\n",
      "\u001b[1;33m    yb.reshape()\u001b[0m\n",
      "\u001b[1;31mTypeError\u001b[0m\u001b[1;31m:\u001b[0m reshape() takes exactly 1 argument (0 given)\n",
      "\n",
      "Use %tb to get the full traceback.\n"
     ]
    },
    {
     "data": {
      "text/html": [
       "\n",
       "<style>\n",
       ".button {\n",
       "  border: none;\n",
       "  color: white;\n",
       "  padding: 4px 8px;\n",
       "  text-align: center;\n",
       "  text-decoration: none;\n",
       "  display: inline-block;\n",
       "  font-size: 12px;\n",
       "  margin: 4px 2px;\n",
       "  transition-duration: 0.2s;\n",
       "  cursor: pointer;\n",
       "}\n",
       ".iqx-button {\n",
       "  background-color: #0f62fe; \n",
       "  color: white; \n",
       "}\n",
       ".iqx-button:hover {\n",
       "  background-color: #0043ce;\n",
       "  color: white;\n",
       "}\n",
       "</style>\n",
       "<a href=\"https://stackoverflow.com/search?q=TypeError: reshape() takes exactly 1 argument (0 given)\" target='_blank'><button class='button iqx-button'>Search for solution online</button></a>\n"
      ],
      "text/plain": [
       "<IPython.core.display.HTML object>"
      ]
     },
     "metadata": {},
     "output_type": "display_data"
    }
   ],
   "source": [
    "yb.reshape()"
   ]
  },
  {
   "cell_type": "markdown",
   "id": "bd7b9f43-90e4-4f92-b5d3-384b7aa18c30",
   "metadata": {},
   "source": [
    "## Encoding"
   ]
  },
  {
   "cell_type": "code",
   "execution_count": 28,
   "id": "9ae63114-c339-421e-8846-f04033b55656",
   "metadata": {},
   "outputs": [],
   "source": [
    "feature_map = ZFeatureMap(4)"
   ]
  },
  {
   "cell_type": "code",
   "execution_count": 29,
   "id": "cb9bdf64-0493-4995-9072-6ad15213673c",
   "metadata": {},
   "outputs": [
    {
     "data": {
      "image/png": "[encoded data removed]",
      "text/plain": [
       "<Figure size 327.397x264.88 with 1 Axes>"
      ]
     },
     "execution_count": 29,
     "metadata": {},
     "output_type": "execute_result"
    }
   ],
   "source": [
    "feature_map.decompose().draw()"
   ]
  },
  {
   "cell_type": "code",
   "execution_count": 31,
   "id": "237947fb-ef5b-47a3-8939-11e766e28f93",
   "metadata": {},
   "outputs": [
    {
     "data": {
      "image/png": "[encoded data removed]",
      "text/plain": [
       "<Figure size 387.597x264.88 with 1 Axes>"
      ]
     },
     "execution_count": 31,
     "metadata": {},
     "output_type": "execute_result"
    }
   ],
   "source": [
    "ansatz = RealAmplitudes(4,reps=1)\n",
    "ansatz.decompose().draw()"
   ]
  },
  {
   "cell_type": "code",
   "execution_count": 32,
   "id": "6f49da8d-231d-4ee3-ba3d-4718fa17588f",
   "metadata": {},
   "outputs": [],
   "source": [
    "# construct simple feature map\n",
    "#param_x = Parameter(\"x\")\n",
    "#feature_map = ZZFeatureMap(4)\n",
    "#feature_map = RealAmplitudes(4,reps=1,insert_barriers=True,entanglement=[[0,1]])\n",
    "\n",
    "\n",
    "#feature_map = QuantumCircuit(4, name=\"fm\")\n",
    "#feature_map.rx(param_x[0], 0)\n",
    "#feature_map.ry(param_x[0], 0)\n",
    "\n",
    "#feature_map.rx(param_x[1], 1)\n",
    "#feature_map.ry(param_x[1], 1)\n",
    "\n",
    "#feature_map.rx(param_x[2], 2)\n",
    "#feature_map.ry(param_x[2], 2)\n",
    "\n",
    "#feature_map.rx(param_x[3], 3)\n",
    "#feature_map.ry(param_x[3], 3)\n",
    "\n",
    "# construct simple ansatz\n",
    "#param_y = Parameter(\"y\")\n",
    "#ansatz = RealAmplitudes(4,reps=1,insert_barriers=True,entanglement=[[0,1]])\n",
    "#ansatz = QuantumCircuit(4, name=\"vf\")\n",
    "#ansatz.ry(param_y, 0)\n",
    "#ansatz.ry(param_y, 1)\n",
    "\n",
    "# construct a circuit\n",
    "qc = QuantumCircuit(4)\n",
    "qc.compose(feature_map, inplace=True)\n",
    "qc.compose(ansatz, inplace=True)\n",
    "\n",
    "# construct QNN\n",
    "regression_estimator_qnn = EstimatorQNN(\n",
    "    circuit=qc, input_params=feature_map.parameters, weight_params=ansatz.parameters\n",
    ")"
   ]
  },
  {
   "cell_type": "code",
   "execution_count": 33,
   "id": "dca3997e-4e0d-4d4a-bb7e-a69dc490baa6",
   "metadata": {},
   "outputs": [
    {
     "data": {
      "image/png": "[encoded data removed]",
      "text/plain": [
       "<Figure size 507.997x264.88 with 1 Axes>"
      ]
     },
     "execution_count": 33,
     "metadata": {},
     "output_type": "execute_result"
    }
   ],
   "source": [
    "qc.draw()"
   ]
  },
  {
   "cell_type": "code",
   "execution_count": null,
   "id": "0ed7769e-ddc4-4399-9cc1-c56f3717d7fa",
   "metadata": {},
   "outputs": [],
   "source": [
    "from qiskit_machine_learning im"
   ]
  },
  {
   "cell_type": "code",
   "execution_count": 34,
   "id": "3d5f13f5-259d-4851-bcb6-62135291870f",
   "metadata": {},
   "outputs": [],
   "source": [
    "def callback_graph(weights, obj_func_eval):\n",
    "    clear_output(wait=True)\n",
    "    objective_func_vals.append(obj_func_eval)\n",
    "    plt.title(\"Objective function value against iteration\")\n",
    "    plt.xlabel(\"Iteration\")\n",
    "    plt.ylabel(\"Objective function value\")\n",
    "    plt.plot(range(len(objective_func_vals)), objective_func_vals)\n",
    "    plt.show()\n",
    "    #print(obj_func_eval)"
   ]
  },
  {
   "cell_type": "code",
   "execution_count": 35,
   "id": "2da5a35e-ca4b-4d13-931f-f0fd395efd11",
   "metadata": {},
   "outputs": [],
   "source": [
    "from qiskit.algorithms.optimizers import ADAM"
   ]
  },
  {
   "cell_type": "code",
   "execution_count": 45,
   "id": "7f4f227b-616c-432c-9f1c-94d304bb1155",
   "metadata": {},
   "outputs": [],
   "source": [
    "# construct the regressor from the neural network\n",
    "regressor = NeuralNetworkRegressor(\n",
    "    neural_network=regression_estimator_qnn,\n",
    "    loss=\"squared_error\",\n",
    "    optimizer=COBYLA(maxiter=50),\n",
    "    #optimizer=ADAM(maxiter=5),\n",
    "    callback=callback_graph,\n",
    ")"
   ]
  },
  {
   "cell_type": "code",
   "execution_count": 46,
   "id": "3abd2330-4a05-4d8e-9c7a-aa1c35dea2fb",
   "metadata": {},
   "outputs": [
    {
     "data": {
      "image/png": "[encoded data removed]",
      "text/plain": [
       "<Figure size 864x432 with 1 Axes>"
      ]
     },
     "metadata": {
      "needs_background": "light"
     },
     "output_type": "display_data"
    },
    {
     "data": {
      "text/plain": [
       "0.08760931064585631"
      ]
     },
     "execution_count": 46,
     "metadata": {},
     "output_type": "execute_result"
    }
   ],
   "source": [
    "# create empty array for callback to store evaluations of the objective function\n",
    "objective_func_vals = []\n",
    "plt.rcParams[\"figure.figsize\"] = (12, 6)\n",
    "\n",
    "# fit to data\n",
    "regressor.fit(xb_pca, yb)\n",
    "\n",
    "# return to default figsize\n",
    "plt.rcParams[\"figure.figsize\"] = (6, 4)\n",
    "\n",
    "# score the result\n",
    "regressor.score(xb_v_pca, yb_v)"
   ]
  },
  {
   "cell_type": "code",
   "execution_count": 47,
   "id": "bc233415-7e35-4842-8a21-5435c09574a2",
   "metadata": {},
   "outputs": [
    {
     "name": "stdout",
     "output_type": "stream",
     "text": [
      "18.26325703542766\n"
     ]
    },
    {
     "data": {
      "text/plain": [
       "(array([[-0.09536405],\n",
       "        [-0.1345235 ],\n",
       "        [-0.3359718 ],\n",
       "        [-0.08966169],\n",
       "        [-0.31002474]]),\n",
       " array([-0.92792793, -0.40540541, -0.3963964 , -0.03603604, -0.25225225]))"
      ]
     },
     "execution_count": 47,
     "metadata": {},
     "output_type": "execute_result"
    }
   ],
   "source": [
    "# plot target function\n",
    "#f = lambda x: np.sin(x)\n",
    "#plt.plot(xb_v_pca, f(xb_v_pca), \"r--\")\n",
    "\n",
    "# plot data\n",
    "#plt.plot(xb_v_pca, yb_v, \"bo\")\n",
    "\n",
    "# plot fitted line\n",
    "y_ = regressor.predict(xb_v_pca)\n",
    "#plt.plot(xb_v_pca, y_, \"g-\")\n",
    "#plt.show()\n",
    "def mse_loss(y_pred, y_true):\n",
    "    squared_error = (y_pred - y_true) ** 2\n",
    "    sum_squared_error = np.sum(squared_error)\n",
    "    loss = sum_squared_error / y_true.size\n",
    "    return loss\n",
    "\n",
    "print(mse_loss(y_,yb_v))\n",
    "y_[:5],yb_v[:5]\n",
    "#df = pd.DataFrame([y_,yb_v])\n",
    "#df\n"
   ]
  },
  {
   "cell_type": "code",
   "execution_count": 48,
   "id": "3b3e0356-df6b-4366-9173-49b0bb84401f",
   "metadata": {},
   "outputs": [
    {
     "data": {
      "text/plain": [
       "(array([0.16219589]), array([-0.39548309]), 1.0, -1.0)"
      ]
     },
     "execution_count": 48,
     "metadata": {},
     "output_type": "execute_result"
    }
   ],
   "source": [
    "max(y_),min(y_),max(yb_v),min(yb_v)"
   ]
  },
  {
   "cell_type": "code",
   "execution_count": 49,
   "id": "57875cba-413c-4226-813b-ef1966831000",
   "metadata": {},
   "outputs": [],
   "source": [
    "vqr = VQR(\n",
    "    feature_map=feature_map,\n",
    "    ansatz=ansatz,\n",
    "    optimizer=COBYLA(maxiter=50),\n",
    "    callback=callback_graph,\n",
    ")"
   ]
  },
  {
   "cell_type": "code",
   "execution_count": 50,
   "id": "1ee0c7cb-b9ab-412a-8e22-9f5dde6ccbca",
   "metadata": {},
   "outputs": [
    {
     "data": {
      "image/png": "[encoded data removed]",
      "text/plain": [
       "<Figure size 864x432 with 1 Axes>"
      ]
     },
     "metadata": {
      "needs_background": "light"
     },
     "output_type": "display_data"
    },
    {
     "data": {
      "text/plain": [
       "-0.009796501429949922"
      ]
     },
     "execution_count": 50,
     "metadata": {},
     "output_type": "execute_result"
    }
   ],
   "source": [
    "# create empty array for callback to store evaluations of the objective function\n",
    "objective_func_vals = []\n",
    "plt.rcParams[\"figure.figsize\"] = (12, 6)\n",
    "\n",
    "# fit regressor\n",
    "vqr.fit(xb_pca, yb)\n",
    "\n",
    "# return to default figsize\n",
    "plt.rcParams[\"figure.figsize\"] = (6, 4)\n",
    "\n",
    "# score result\n",
    "vqr.score(xb_pca, yb)"
   ]
  },
  {
   "cell_type": "code",
   "execution_count": null,
   "id": "21adfb61-c088-4e08-8fc8-eb44ad960c29",
   "metadata": {},
   "outputs": [],
   "source": []
  },
  {
   "cell_type": "code",
   "execution_count": 51,
   "id": "4123f45d-de2e-413a-8b1a-cd5bb1aa453b",
   "metadata": {},
   "outputs": [
    {
     "name": "stdout",
     "output_type": "stream",
     "text": [
      "Mean square error: 19.870899914385276\n",
      "Actual values: [-0.92792793 -0.40540541 -0.3963964  -0.03603604 -0.25225225]\n",
      "Predicted values: [[0.021251421259161615], [-0.17173011497104054], [-0.08941052104991704], [-0.1438337405235883], [-0.14673393320913292]]\n"
     ]
    }
   ],
   "source": [
    "# plot target function\n",
    "#f = lambda x: np.sin(x)\n",
    "#plt.plot(xb_v_pca, f(xb_v_pca), \"r--\")\n",
    "\n",
    "# plot data\n",
    "#plt.plot(xb_v_pca, yb_v, \"bo\")\n",
    "\n",
    "# plot fitted line\n",
    "y_ = vqr.predict(xb_v_pca)\n",
    "#plt.plot(xb_v_pca, y_, \"g-\")\n",
    "#plt.show()\n",
    "def mse_loss(y_pred, y_true):\n",
    "    squared_error = (y_pred - y_true) ** 2\n",
    "    sum_squared_error = np.sum(squared_error)\n",
    "    loss = sum_squared_error / y_true.size\n",
    "    return loss\n",
    "\n",
    "print(\"Mean square error:\",mse_loss(y_,yb_v))\n",
    "print(\"Actual values:\",yb_v[:5])\n",
    "print(\"Predicted values:\",y_[:5].tolist())\n",
    "#df = pd.DataFrame([y_,yb_v])\n",
    "#df\n"
   ]
  },
  {
   "cell_type": "code",
   "execution_count": null,
   "id": "2d6072d4-df49-4784-9cf2-4f62a0aafe41",
   "metadata": {},
   "outputs": [],
   "source": []
  },
  {
   "cell_type": "code",
   "execution_count": 52,
   "id": "40530b42-e56a-43b6-9745-3f976172ff4d",
   "metadata": {},
   "outputs": [
    {
     "data": {
      "image/png": "[encoded data removed]",
      "text/plain": [
       "<Figure size 432x288 with 1 Axes>"
      ]
     },
     "metadata": {
      "needs_background": "light"
     },
     "output_type": "display_data"
    }
   ],
   "source": [
    "# plot target function\n",
    "#f = lambda x: np.sin(x)\n",
    "#plt.plot(xb_v_pca, f(xb_v_pca), \"r--\")\n",
    "\n",
    "# plot data\n",
    "plt.plot(xb_v_pca, yb_v, \"bo\")\n",
    "\n",
    "# plot fitted line\n",
    "y_ = vqr.predict(xb_v_pca)\n",
    "plt.plot(xb_v_pca, y_, \"go\")\n",
    "plt.show()"
   ]
  },
  {
   "cell_type": "code",
   "execution_count": 53,
   "id": "5c1346ee-3e09-4f06-a258-a4430d61350b",
   "metadata": {},
   "outputs": [
    {
     "name": "stdout",
     "output_type": "stream",
     "text": [
      "[[ 0.02125142]\n",
      " [-0.17173011]\n",
      " [-0.08941052]\n",
      " [-0.14383374]\n",
      " [-0.14673393]] [-0.92792793 -0.40540541 -0.3963964  -0.03603604 -0.25225225]\n"
     ]
    }
   ],
   "source": [
    "print(y_[:5],yb_v[:5])"
   ]
  },
  {
   "cell_type": "code",
   "execution_count": null,
   "id": "acbd564c-fb22-4756-a040-341a25362e57",
   "metadata": {},
   "outputs": [],
   "source": []
  },
  {
   "cell_type": "code",
   "execution_count": null,
   "id": "cedb4118-082a-4be6-9a56-80e0436f90c3",
   "metadata": {},
   "outputs": [],
   "source": []
  },
  {
   "cell_type": "code",
   "execution_count": null,
   "id": "ad40cd27-2584-494a-80b6-f2647aecd3a9",
   "metadata": {},
   "outputs": [],
   "source": []
  },
  {
   "cell_type": "code",
   "execution_count": null,
   "id": "81a4545f-854b-4881-938f-59c8841e9f53",
   "metadata": {},
   "outputs": [],
   "source": []
  },
  {
   "cell_type": "code",
   "execution_count": null,
   "id": "e540e4bd-9439-4e8b-98ce-68f9447bef0d",
   "metadata": {},
   "outputs": [],
   "source": []
  }
 ],
 "metadata": {
  "kernelspec": {
   "display_name": "Python 3 (ipykernel)",
   "language": "python",
   "name": "python3"
  },
  "language_info": {
   "codemirror_mode": {
    "name": "ipython",
    "version": 3
   },
   "file_extension": ".py",
   "mimetype": "text/x-python",
   "name": "python",
   "nbconvert_exporter": "python",
   "pygments_lexer": "ipython3",
   "version": "3.10.8"
  },
  "widgets": {
   "application/vnd.jupyter.widget-state+json": {
    "state": {},
    "version_major": 2,
    "version_minor": 0
   }
  }
 },
 "nbformat": 4,
 "nbformat_minor": 5
}
